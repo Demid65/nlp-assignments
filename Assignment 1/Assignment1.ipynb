{
 "cells": [
  {
   "cell_type": "markdown",
   "metadata": {
    "id": "RKboZnAdgrRM"
   },
   "source": [
    "# [NLP] Assignment 1: Tokenization\n",
    "\n",
    "In this assignment, you need to tokenize the text of the Twitter(X) users posts(tweets). The assignment consists of two tasks. When you finish all the tasks, create a GitHub repository for this assignment (you can use this repo later for the other assignments) and submit this notebook in the repository. Leave `requirements.txt` file if your code requires additional installations. Submit the link to the repository in Moodle.\n",
    "\n",
    "The [data](https://drive.google.com/file/d/15x_wPAflvYQ2Xh38iNQGrqUIWLj5l5Nw/view?usp=share_link) contains 5 files whereby each contains 44 tweets. Each tweet is separated by a newline."
   ]
  },
  {
   "cell_type": "markdown",
   "metadata": {
    "id": "aLDjjAvemUP_"
   },
   "source": [
    "## Task 1. Tokenize some tweets manually (20 points)\n",
    "\n",
    "As a first task you need to tokenize first 15 tweets from `file2` by hand. This will allow you to understand the problem from a linguistic point of view. The guidelines for tweet tokenization are as follows:\n",
    "\n",
    "- Each smiley is a separate token\n",
    "- Each hashtag is an individual token. Each user reference is an individual token\n",
    "- If a word has spaces between them then it is converted to a single token\n",
    "- All punctuations are individual tokens. This includes double-quotes and single quotes also\n",
    "- A URL is a single token\n",
    "\n",
    "Example of output\n",
    "\n",
    "    Input tweet\n",
    "    @xfranman Old age has made N A T O!\n",
    "\n",
    "    Tokenized tweet (separated by comma)\n",
    "    @xfranman , Old , age , has , made , NATO , !"
   ]
  },
  {
   "cell_type": "markdown",
   "metadata": {
    "id": "7KKKwTidnzUw"
   },
   "source": [
    "    # Note: I'll consider <---, ... as single tokens for convinience reasons\n",
    "    \n",
    "    \n",
    "    Camping in Maine for the weekend. Hey Dad, Mama Loves YOU: http://www.mamapalooza.com\n",
    "\n",
    "    Camping , in , Maine , for , the , weekend , . , Hey , Dad , , , Mama , Loves , YOU , : , http://www.mamapalooza.com\n",
    "    \n",
    "    Its american tradition bitch\n",
    "\n",
    "    Its , american , tradition , bitch\n",
    "    \n",
    "    @ThroughTheVoid They love it! The only pleasure they get in life. I actually do that. I'm sure I hear a tiny squeak... Then louder ones\n",
    "\n",
    "    @ThroughTheVoid , They , love , it , ! , The , only , pleasure , they , get , in , life , . , I , actually , do , that , . , I , ' , m , sure , I , hear , a , tiny , squeak , ... , Then , louder , ones\n",
    "    \n",
    "    \" RT @latti: @AbsoHilare stop tweeting in church! Lol <--- \"\"I tweet because I'm happy, I tweet because I'm free\"\" LOL!\"\n",
    "\n",
    "    \" , RT , @latti , : , @AbsoHilare , stop , tweeting , in , church , ! , Lol , <--- , \" , \" , I , tweet , because , I , ' , m , happy , , , I , tweet , because , I , ' , m , free , \" , \" , LOL , ! , \"\n",
    "    \n",
    "    Samsung Mini S2 portable HDD graced with colors that perfectly match your tacky beach gear: Sammy's done it aga.. http://tinyurl.com/lb5p6m\n",
    "\n",
    "    Samsung , Mini , S2 , portable , HDD , graced , with , colors , that , perfectly , match , your , tacky , beach , gear , : , Sammy , ' , s , done , it , aga , . , . , http://tinyurl.com/lb5p6m\n",
    "    \n",
    "    @dialloc congrats on finding your way over. it may be slow going at first. hang in there. it's kinda cool when u get up to speed.\n",
    "\n",
    "    @dialloc , congrats , on , finding , your , way , over , . , it , may , be , slow , going , at , first , . , hang , in , there , . , it , ' , s , kinda , cool , when , u , get , up , to , speed , .\n",
    "    \n",
    "    iPhone activation delays continue, Apple offers $30 http://twt.gs/l3Ki\n",
    "\n",
    "    iPhone , activation , delays , continue , , , Apple , offers , $30 , http://twt.gs/l3Ki\n",
    "\n",
    "    RT @GoogleAtWork Gmail maximum attachment size now 25MB http://bit.ly/62mjw Nice!!!\n",
    "\n",
    "    RT , @GoogleAtWork , Gmail , maximum , attachment , size , now , 25MB , http://bit.ly/62mjw , Nice , ! , ! , !\n",
    "    \n",
    "    RT @acfou The Ads Won Awards for Crispin; But Did Nothing for Client BurgerKing's Sales/Marketshare - Big Surprise - http://ping.fm/vw8TI\n",
    "\n",
    "    RT , @acfou , The , Ads , Won , Awards , for , Crispin , ; , But , Did , Nothing , for , Client , BurgerKing , ' , s , Sales , / , Marketshare , - , Big , Surprise , - , http://ping.fm/vw8TI\n",
    "    \n",
    "    Hey doll! Great I missed True Blood yday boo lol Rt @FrankBanuat78 @jhillstephens Hello Sunshine how are u today? :-)\n",
    "\n",
    "    Hey , doll , ! , Great , I , missed , True , Blood , yday , boo , lol , Rt , @FrankBanuat78 , @jhillstephens , Hello , Sunshine , how , are , u , today , ? , :-)\n",
    "\n",
    "    Australian artist Pogo made these free songs primarily from sampled audio from Alice In Wonderland. http://www.last.fm/music/Pogo/Wonderland\n",
    "\n",
    "    Australian , artist , Pogo , made , these , free , songs , primarily , from , sampled , audio , from , Alice , In , Wonderland , . , http://www.last.fm/music/Pogo/Wonderland\n",
    "    \n",
    "    @mppritchard they wanted to sell all the preorders & then sell all of the ones they had in stock to those that just walked in. Can't do both\n",
    "\n",
    "    @mppritchard , they , wanted , to , sell , all , the , preorders , & , then , sell , all , of , the , ones , they , had , in , stock , to , those , that , just , walked , in , . , Can , ' , t , do , both\n",
    "\n",
    "    Incoming: Frightened Rabbit, Sept. 22 (Tucson): If Fat Cat Records is going to send three great bands from Scot.. http://tinyurl.com/nz6xcv\n",
    "    \n",
    "    Incoming , : , Frightened , Rabbit , , , Sept , . , 22 , (  , Tucson , ) , : , If , Fat , Cat , Records , is , going , to , send , three , great , bands , from , Scot , . , . , http://tinyurl.com/nz6xcv\n",
    "    \n",
    "    Hey @ginoandfran please greet philip! (GinoandFran live > http://ustre.am/2YyQ)\n",
    "\n",
    "    Hey , @ginoandfran , please , greet , philip , ! , ( , GinoandFran , live , > , http://ustre.am/2YyQ , )\n",
    "    \n",
    "    Ik weet niet wie er achter de T-Mobile iPhone Twitter zit maar ik vind het niet echt 'corporate' taalgebruik... Best vreemd eigenlijk\n",
    "\n",
    "    Ik , weet , niet , wie , er , achter , de , T , - , Mobile , iPhone , Twitter , zit , maar , ik , vind , het , niet , echt , ' , corporate , ' , taalgebruik , ... , Best , vreemd , eigenlijk"
   ]
  },
  {
   "cell_type": "markdown",
   "metadata": {
    "id": "-2J2AD2nmUhi"
   },
   "source": [
    "## Task 2. Implement [Byte-Pair Encoding(BPE)](https://arxiv.org/pdf/1508.07909.pdf) Tokenizer (80 points)\n",
    "\n",
    "### Task 2.1. Implementation (60 points)\n",
    "\n",
    "Implement the tokenizer as the BPETokenizer class:\n",
    "* Implement `train` method that learns merges and builds the vocabulary of the specified `vocab_size` (25 points).\n",
    "* Implement `tokenize` method that should tokenize the text according to the learnt merges (25 points).\n",
    "\n",
    "Your code should have docstrings and comments (10 points)."
   ]
  },
  {
   "cell_type": "code",
   "execution_count": 74,
   "metadata": {
    "execution": {
     "iopub.execute_input": "2024-02-12T18:18:03.847394Z",
     "iopub.status.busy": "2024-02-12T18:18:03.846645Z",
     "iopub.status.idle": "2024-02-12T18:18:03.868481Z",
     "shell.execute_reply": "2024-02-12T18:18:03.867744Z",
     "shell.execute_reply.started": "2024-02-12T18:18:03.847394Z"
    }
   },
   "outputs": [],
   "source": [
    "# this tokenizer is built following the tutorial provided here with some tweaks: https://huggingface.co/learn/nlp-course/chapter6/5\n",
    "\n",
    "from typing import List\n",
    "from collections import defaultdict\n",
    "from transformers import AutoTokenizer\n",
    "\n",
    "class BPETokenizer:\n",
    "\n",
    "    def __init__(self, vocab_size: int) -> None:\n",
    "        self.vocab_size = vocab_size\n",
    "        self.merges = None\n",
    "        self.word_freqs = None\n",
    "        self.vocab = None\n",
    "        self.pre_tokenizer = AutoTokenizer.from_pretrained(\"gpt2\").backend_tokenizer.pre_tokenizer # using pre-tokenizer from gpt-2 to avoid hassle with punctuation and stuff\n",
    "        \n",
    "\n",
    "    # compute frequencies of different token pairs given tokenized text (helper function for train)\n",
    "    def compute_pair_freqs(self, splits):\n",
    "        pair_freqs = defaultdict(int)\n",
    "        for word, freq in self.word_freqs.items():\n",
    "            split = splits[word]\n",
    "            if len(split) == 1:\n",
    "                continue\n",
    "            for i in range(len(split) - 1):\n",
    "                pair = (split[i], split[i + 1])\n",
    "                pair_freqs[pair] += freq\n",
    "        return pair_freqs\n",
    "        \n",
    "    # helper function for train, that updates the word to tokenization map with updated vocabulary\n",
    "    def merge_pair(self, a, b, splits):\n",
    "        for word in self.word_freqs:\n",
    "            split = splits[word]\n",
    "            if len(split) == 1:\n",
    "                continue\n",
    "    \n",
    "            i = 0\n",
    "            while i < len(split) - 1:\n",
    "                if split[i] == a and split[i + 1] == b:\n",
    "                    split = split[:i] + [a + b] + split[i + 2 :]\n",
    "                else:\n",
    "                    i += 1\n",
    "            splits[word] = split\n",
    "        return splits\n",
    "\n",
    "    # main training fucntion\n",
    "    def train(self, corpus: List[str]) -> None:\n",
    "\n",
    "        # make a list of words present in corpus with their counts\n",
    "        self.word_freqs = defaultdict(int)\n",
    "        \n",
    "        # fill the list\n",
    "        for text in corpus:\n",
    "            words_with_offsets = self.pre_tokenizer.pre_tokenize_str(text)\n",
    "            new_words = [word for word, offset in words_with_offsets]\n",
    "            for word in new_words:\n",
    "                self.word_freqs[word] += 1\n",
    "                \n",
    "        # make a vocabulary with every symbol present in the sentence\n",
    "        vocab = []\n",
    "        for word in self.word_freqs.keys():\n",
    "            for letter in word:\n",
    "                if letter not in vocab:\n",
    "                    vocab.append(letter)\n",
    "        vocab.sort()\n",
    "        \n",
    "        # make a dictionary that maps every word to its tokenization\n",
    "        splits = {word: [c for c in word] for word in self.word_freqs.keys()}\n",
    "\n",
    "        merges = {}\n",
    "        \n",
    "        # as long as we have space for new tokens, make them.\n",
    "        while len(vocab) < self.vocab_size:\n",
    "            # compute frequencies of different token pairs\n",
    "            pair_freqs = self.compute_pair_freqs(splits)\n",
    "\n",
    "            # find the most common token pair\n",
    "            best_pair = \"\"\n",
    "            max_freq = 0\n",
    "            for pair, freq in pair_freqs.items():\n",
    "                if max_freq < freq:\n",
    "                    best_pair = pair\n",
    "                    max_freq = freq\n",
    "\n",
    "            # add new token to vocabulary\n",
    "            splits = self.merge_pair(*best_pair, splits)\n",
    "            merges[best_pair] = best_pair[0] + best_pair[1]\n",
    "            vocab.append(best_pair[0] + best_pair[1])\n",
    "\n",
    "        # save it\n",
    "        self.merges = merges\n",
    "        self.vocab = vocab\n",
    "\n",
    "    # tokenization function. Note, this tokenizer works by first splitting the words into symbols, then merging them back. Not the most optimal implementation, but easy to code.\n",
    "    def tokenize(self, text: str) -> List[str]:\n",
    "        # pre-tokenize the text\n",
    "        pre_tokenize_result = self.pre_tokenizer.pre_tokenize_str(text)\n",
    "        pre_tokenized_text = [word for word, offset in pre_tokenize_result]\n",
    "\n",
    "        # split it into symbols\n",
    "        splits = [[l for l in word] for word in pre_tokenized_text]\n",
    "        \n",
    "        # merge symbols into tokens\n",
    "        for pair, merge in self.merges.items():\n",
    "            for idx, split in enumerate(splits):\n",
    "                i = 0\n",
    "                while i < len(split) - 1:\n",
    "                    if split[i] == pair[0] and split[i + 1] == pair[1]:\n",
    "                        split = split[:i] + [merge] + split[i + 2 :]\n",
    "                    else:\n",
    "                        i += 1\n",
    "                splits[idx] = split\n",
    "                \n",
    "        return sum(splits, [])"
   ]
  },
  {
   "cell_type": "markdown",
   "metadata": {},
   "source": [
    "### Task 2.2. Analysis on Tweets Dataset (10 points)\n",
    "\n",
    "Train the BPE tokenizer on the tweets dataset. Try to tokenize the tweets with the tokenizer of different `vocab_size`. For example, train the BPE tokenizer with `vocab_size` of [base_vocab_size, 250, 500, 750, 1000]. Plot the dependency of the average length of the tokenized tweet by `vocab_size` to analyze how `vocab_size` affects the length of the tokenized tweet on average. Tell what `vocab_size` is preferrable and why."
   ]
  },
  {
   "cell_type": "code",
   "execution_count": null,
   "metadata": {},
   "outputs": [],
   "source": [
    "# Your code here\n",
    "corpus = []\n",
    "corpus += open('file1').readlines()\n",
    "corpus += open('file2').readlines()\n",
    "corpus += open('file3').readlines()\n",
    "corpus += open('file4').readlines()\n",
    "corpus += open('file5').readlines()"
   ]
  },
  {
   "cell_type": "code",
   "execution_count": 75,
   "metadata": {
    "execution": {
     "iopub.execute_input": "2024-02-12T18:18:07.580709Z",
     "iopub.status.busy": "2024-02-12T18:18:07.579962Z",
     "iopub.status.idle": "2024-02-12T18:18:32.802331Z",
     "shell.execute_reply": "2024-02-12T18:18:32.801060Z",
     "shell.execute_reply.started": "2024-02-12T18:18:07.580709Z"
    }
   },
   "outputs": [],
   "source": [
    "x = [250, 500, 750, 1000]\n",
    "y = []\n",
    "for vocab_size in x:\n",
    "    bpe = BPETokenizer(vocab_size)\n",
    "    bpe.train(corpus)\n",
    "    l = 0\n",
    "    for line in corpus:\n",
    "        l += len(bpe.tokenize(line))\n",
    "    y.append(l / len(corpus))"
   ]
  },
  {
   "cell_type": "code",
   "execution_count": 70,
   "metadata": {
    "execution": {
     "iopub.execute_input": "2024-02-12T17:54:51.009929Z",
     "iopub.status.busy": "2024-02-12T17:54:51.009174Z",
     "iopub.status.idle": "2024-02-12T17:54:51.205072Z",
     "shell.execute_reply": "2024-02-12T17:54:51.204330Z",
     "shell.execute_reply.started": "2024-02-12T17:54:51.009929Z"
    }
   },
   "outputs": [
    {
     "data": {
      "image/png": "[encoded data removed]",
      "text/plain": [
       "<Figure size 640x480 with 1 Axes>"
      ]
     },
     "metadata": {},
     "output_type": "display_data"
    }
   ],
   "source": [
    "import matplotlib.pylab as plt\n",
    "\n",
    "f, ax = plt.subplots(1)\n",
    "ax.plot(x, y)\n",
    "ax.set_ylim(ymin=0)\n",
    "plt.show(f)"
   ]
  },
  {
   "cell_type": "markdown",
   "metadata": {
    "execution": {
     "iopub.execute_input": "2024-02-12T17:21:00.020385Z",
     "iopub.status.busy": "2024-02-12T17:21:00.019648Z",
     "iopub.status.idle": "2024-02-12T17:21:00.027713Z",
     "shell.execute_reply": "2024-02-12T17:21:00.026219Z",
     "shell.execute_reply.started": "2024-02-12T17:21:00.020385Z"
    }
   },
   "source": [
    "Tweaking vocab size yields diminishing returns with bigger vocabulary. For the given task, a vocabulary of 500 or 750 should be sufficient, since there would be little benefit from expanding it further, and vocabulary of such size is big enough to learn common structrues and stop-words and handle them efficiently. For bigger datasets tho, a reasonably bigger vocabulary would be viable."
   ]
  },
  {
   "cell_type": "markdown",
   "metadata": {},
   "source": [
    "### Task 2.3. Analysis on Dataset of Different Language (10 points)\n",
    "\n",
    "Find a small dataset of texts in a language other than English. The dataset size should be not greater than several megabytes.\n",
    "\n",
    "Train the BPE tokenizer on the dataset that you found. Try to tokenize the sentences from this dataset with the tokenizer of different `vocab_size`. Plot the dependency of the average length of the tokenized sentence by `vocab_size` to analyze how `vocab_size` affects the length of the tokenized sentence on average.\n",
    "\n",
    "Tell how how the average length of the tokenized sentence differs from the average length of the tokenized tweet. Explain why. "
   ]
  },
  {
   "cell_type": "code",
   "execution_count": 61,
   "metadata": {
    "execution": {
     "iopub.execute_input": "2024-02-12T17:35:50.307895Z",
     "iopub.status.busy": "2024-02-12T17:35:50.307146Z",
     "iopub.status.idle": "2024-02-12T17:35:51.587799Z",
     "shell.execute_reply": "2024-02-12T17:35:51.587070Z",
     "shell.execute_reply.started": "2024-02-12T17:35:50.307146Z"
    }
   },
   "outputs": [
    {
     "data": {
      "text/plain": [
       "'きたない子育てがいいことだらけな理由'"
      ]
     },
     "execution_count": 61,
     "metadata": {},
     "output_type": "execute_result"
    }
   ],
   "source": [
    "# Your code here\n",
    "import pandas as pd\n",
    "df = pd.read_csv('https://raw.githubusercontent.com/cl-tohoku/PheMT/main/mtnt_approp_annotated.tsv', sep='\\t', header=None)\n",
    "corpus_jap = df.head(1000)[4]\n",
    "corpus_jap[1]"
   ]
  },
  {
   "cell_type": "code",
   "execution_count": 64,
   "metadata": {
    "execution": {
     "iopub.execute_input": "2024-02-12T17:37:24.962974Z",
     "iopub.status.busy": "2024-02-12T17:37:24.962224Z",
     "iopub.status.idle": "2024-02-12T17:38:43.350960Z",
     "shell.execute_reply": "2024-02-12T17:38:43.350217Z",
     "shell.execute_reply.started": "2024-02-12T17:37:24.962974Z"
    }
   },
   "outputs": [],
   "source": [
    "jx = [250, 500, 750, 1000]\n",
    "jy = []\n",
    "for vocab_size in jx:\n",
    "    bpe = BPETokenizer(vocab_size)\n",
    "    bpe.train(corpus_jap)\n",
    "    l = 0\n",
    "    for line in corpus_jap:\n",
    "        l += len(bpe.tokenize(line))\n",
    "    jy.append(l / len(corpus_jap))"
   ]
  },
  {
   "cell_type": "code",
   "execution_count": 66,
   "metadata": {
    "execution": {
     "iopub.execute_input": "2024-02-12T17:40:15.342894Z",
     "iopub.status.busy": "2024-02-12T17:40:15.341379Z",
     "iopub.status.idle": "2024-02-12T17:40:15.524965Z",
     "shell.execute_reply": "2024-02-12T17:40:15.524220Z",
     "shell.execute_reply.started": "2024-02-12T17:40:15.342171Z"
    }
   },
   "outputs": [
    {
     "data": {
      "image/png": "[encoded data removed]",
      "text/plain": [
       "<Figure size 640x480 with 1 Axes>"
      ]
     },
     "metadata": {},
     "output_type": "display_data"
    }
   ],
   "source": [
    "import matplotlib.pylab as plt\n",
    "\n",
    "f, ax = plt.subplots(1)\n",
    "ax.plot(jx, jy)\n",
    "ax.set_ylim(ymin=0)\n",
    "plt.show(f)"
   ]
  }
 ],
 "metadata": {
  "colab": {
   "provenance": [],
   "toc_visible": true
  },
  "kernelspec": {
   "display_name": "Python 3 (ipykernel)",
   "language": "python",
   "name": "python3"
  },
  "language_info": {
   "codemirror_mode": {
    "name": "ipython",
    "version": 3
   },
   "file_extension": ".py",
   "mimetype": "text/x-python",
   "name": "python",
   "nbconvert_exporter": "python",
   "pygments_lexer": "ipython3",
   "version": "3.11.0"
  }
 },
 "nbformat": 4,
 "nbformat_minor": 4
}
